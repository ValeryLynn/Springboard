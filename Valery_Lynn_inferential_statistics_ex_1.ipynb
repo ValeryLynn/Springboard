{
 "cells": [
  {
   "cell_type": "markdown",
   "metadata": {},
   "source": [
    "# What is the True Normal Human Body Temperature? \n",
    "\n",
    "#### Background\n",
    "\n",
    "The mean normal body temperature was held to be 37$^{\\circ}$C or 98.6$^{\\circ}$F for more than 120 years since it was first conceptualized and reported by Carl Wunderlich in a famous 1868 book. But, is this value statistically correct?"
   ]
  },
  {
   "cell_type": "markdown",
   "metadata": {},
   "source": [
    "<h3>Exercises</h3>\n",
    "\n",
    "<p>In this exercise, you will analyze a dataset of human body temperatures and employ the concepts of hypothesis testing, confidence intervals, and statistical significance.</p>\n",
    "\n",
    "<p>Answer the following questions <b>in this notebook below and submit to your Github account</b>.</p> \n",
    "\n",
    "<ol>\n",
    "<li>  Is the distribution of body temperatures normal? \n",
    "    <ul>\n",
    "    <li> Although this is not a requirement for the Central Limit Theorem to hold (read the introduction on Wikipedia's page about the CLT carefully: https://en.wikipedia.org/wiki/Central_limit_theorem), it gives us some peace of mind that the population may also be normally distributed if we assume that this sample is representative of the population.\n",
    "    <li> Think about the way you're going to check for the normality of the distribution. Graphical methods are usually used first, but there are also other ways: https://en.wikipedia.org/wiki/Normality_test\n",
    "    </ul>\n",
    "<li>  Is the sample size large? Are the observations independent?\n",
    "    <ul>\n",
    "    <li> Remember that this is a condition for the Central Limit Theorem, and hence the statistical tests we are using, to apply.\n",
    "    </ul>\n",
    "<li>  Is the true population mean really 98.6 degrees F?\n",
    "    <ul>\n",
    "    <li> First, try a bootstrap hypothesis test.\n",
    "    <li> Now, let's try frequentist statistical testing. Would you use a one-sample or two-sample test? Why?\n",
    "    <li> In this situation, is it appropriate to use the $t$ or $z$ statistic? \n",
    "    <li> Now try using the other test. How is the result be different? Why?\n",
    "    </ul>\n",
    "<li>  Draw a small sample of size 10 from the data and repeat both frequentist tests. \n",
    "    <ul>\n",
    "    <li> Which one is the correct one to use? \n",
    "    <li> What do you notice? What does this tell you about the difference in application of the $t$ and $z$ statistic?\n",
    "    </ul>\n",
    "<li>  At what temperature should we consider someone's temperature to be \"abnormal\"?\n",
    "    <ul>\n",
    "    <li> As in the previous example, try calculating everything using the boostrap approach, as well as the frequentist approach.\n",
    "    <li> Start by computing the margin of error and confidence interval. When calculating the confidence interval, keep in mind that you should use the appropriate formula for one draw, and not N draws.\n",
    "    </ul>\n",
    "<li>  Is there a significant difference between males and females in normal temperature?\n",
    "    <ul>\n",
    "    <li> What testing approach did you use and why?\n",
    "    <li> Write a story with your conclusion in the context of the original problem.\n",
    "    </ul>\n",
    "</ol>\n",
    "\n",
    "You can include written notes in notebook cells using Markdown: \n",
    "   - In the control panel at the top, choose Cell > Cell Type > Markdown\n",
    "   - Markdown syntax: http://nestacms.com/docs/creating-content/markdown-cheat-sheet\n",
    "\n",
    "#### Resources\n",
    "\n",
    "+ Information and data sources: http://www.amstat.org/publications/jse/datasets/normtemp.txt, http://www.amstat.org/publications/jse/jse_data_archive.htm\n",
    "+ Markdown syntax: http://nestacms.com/docs/creating-content/markdown-cheat-sheet\n",
    "\n",
    "****"
   ]
  },
  {
   "cell_type": "code",
   "execution_count": 235,
   "metadata": {},
   "outputs": [
    {
     "name": "stdout",
     "output_type": "stream",
     "text": [
      "   temperature gender  heart_rate\n",
      "0         99.3      F        68.0\n",
      "1         98.4      F        81.0\n",
      "2         97.8      M        73.0\n",
      "3         99.2      F        66.0\n",
      "4         98.0      F        73.0\n",
      "  \n",
      "<class 'pandas.core.frame.DataFrame'>\n",
      "RangeIndex: 130 entries, 0 to 129\n",
      "Data columns (total 3 columns):\n",
      "temperature    130 non-null float64\n",
      "gender         130 non-null object\n",
      "heart_rate     130 non-null float64\n",
      "dtypes: float64(2), object(1)\n",
      "memory usage: 3.1+ KB\n",
      "None\n",
      "  \n",
      "temperature    False\n",
      "gender         False\n",
      "heart_rate     False\n",
      "dtype: bool\n"
     ]
    }
   ],
   "source": [
    "#Import relevant packages and read in the data\n",
    "\n",
    "import pandas as pd\n",
    "import numpy as np\n",
    "import matplotlib.pyplot as plt\n",
    "from scipy import stats\n",
    "import seaborn as sns\n",
    "\n",
    "df = pd.read_csv('data/human_body_temperature.csv')\n",
    "\n",
    "#Print first 5 lines of the dataframe and check datatypes and missing values\n",
    "print(df.head())\n",
    "print('  ')\n",
    "print(df.info())\n",
    "print('  ')\n",
    "\n",
    "#The info states 130 non-null values, but it's nice to check again to be sure.\n",
    "print(df.isna().any())\n",
    "\n"
   ]
  },
  {
   "cell_type": "markdown",
   "metadata": {
    "collapsed": true
   },
   "source": [
    "## Question 1.  Is the distribution of body temperatures normal?\n",
    "\n",
    "\n"
   ]
  },
  {
   "cell_type": "code",
   "execution_count": 236,
   "metadata": {},
   "outputs": [
    {
     "name": "stdout",
     "output_type": "stream",
     "text": [
      "       temperature  heart_rate\n",
      "count   130.000000  130.000000\n",
      "mean     98.249231   73.761538\n",
      "std       0.733183    7.062077\n",
      "min      96.300000   57.000000\n",
      "25%      97.800000   69.000000\n",
      "50%      98.300000   74.000000\n",
      "75%      98.700000   79.000000\n",
      "max     100.800000   89.000000\n"
     ]
    }
   ],
   "source": [
    "#Get summary statistics\n",
    "print(df.describe())"
   ]
  },
  {
   "cell_type": "markdown",
   "metadata": {},
   "source": [
    "## Are males and females equally represented?"
   ]
  },
  {
   "cell_type": "code",
   "execution_count": 237,
   "metadata": {},
   "outputs": [
    {
     "data": {
      "text/html": [
       "<div>\n",
       "<style scoped>\n",
       "    .dataframe tbody tr th:only-of-type {\n",
       "        vertical-align: middle;\n",
       "    }\n",
       "\n",
       "    .dataframe tbody tr th {\n",
       "        vertical-align: top;\n",
       "    }\n",
       "\n",
       "    .dataframe thead th {\n",
       "        text-align: right;\n",
       "    }\n",
       "</style>\n",
       "<table border=\"1\" class=\"dataframe\">\n",
       "  <thead>\n",
       "    <tr style=\"text-align: right;\">\n",
       "      <th></th>\n",
       "      <th>temperature</th>\n",
       "      <th>heart_rate</th>\n",
       "    </tr>\n",
       "    <tr>\n",
       "      <th>gender</th>\n",
       "      <th></th>\n",
       "      <th></th>\n",
       "    </tr>\n",
       "  </thead>\n",
       "  <tbody>\n",
       "    <tr>\n",
       "      <th>F</th>\n",
       "      <td>65</td>\n",
       "      <td>65</td>\n",
       "    </tr>\n",
       "    <tr>\n",
       "      <th>M</th>\n",
       "      <td>65</td>\n",
       "      <td>65</td>\n",
       "    </tr>\n",
       "  </tbody>\n",
       "</table>\n",
       "</div>"
      ],
      "text/plain": [
       "        temperature  heart_rate\n",
       "gender                         \n",
       "F                65          65\n",
       "M                65          65"
      ]
     },
     "execution_count": 237,
     "metadata": {},
     "output_type": "execute_result"
    }
   ],
   "source": [
    "df.groupby('gender').count()"
   ]
  },
  {
   "cell_type": "code",
   "execution_count": 238,
   "metadata": {},
   "outputs": [
    {
     "data": {
      "image/png": "[encoded data removed]",
      "text/plain": [
       "<Figure size 432x288 with 1 Axes>"
      ]
     },
     "metadata": {},
     "output_type": "display_data"
    }
   ],
   "source": [
    "#Compute the number of bins using the square root rule.\n",
    "n_data = len(df['temperature'])\n",
    "n_bins = np.sqrt(n_data)\n",
    "\n",
    "#Convert to a integer\n",
    "n_bins = int(n_bins)\n",
    "\n",
    "#Plot the histogram with n_bins number of bins\n",
    "_ = plt.hist(df['temperature'], bins=n_bins, density=True)\n",
    "_ = plt.title('Frequency Distribution for Temperature')\n",
    "_ = plt.xlabel('Temperature')\n",
    "_ = plt.ylabel('PDF')\n",
    "plt.show()"
   ]
  },
  {
   "cell_type": "markdown",
   "metadata": {},
   "source": [
    "The graph looks nearly normal. However, histograms suffer from potential binning bias. I will plot the ECDF to confirm."
   ]
  },
  {
   "cell_type": "code",
   "execution_count": 239,
   "metadata": {},
   "outputs": [],
   "source": [
    "#Get mean and standard deviation samples through random selection\n",
    "mean  =  np.mean(df['temperature'])\n",
    "std = np.std(df['temperature'])\n",
    "samples = np.random.normal(mean,std,size=10000)"
   ]
  },
  {
   "cell_type": "code",
   "execution_count": 240,
   "metadata": {},
   "outputs": [
    {
     "data": {
      "image/png": "[encoded data removed]",
      "text/plain": [
       "<Figure size 432x288 with 1 Axes>"
      ]
     },
     "metadata": {},
     "output_type": "display_data"
    }
   ],
   "source": [
    "def ecdf(data):\n",
    "    \"\"\"Compute ECDF for a one-dimensional array of measurements.\"\"\"\n",
    "    # Number of data points: n\n",
    "    n = len(data)\n",
    "\n",
    "    # x-data for the ECDF: x\n",
    "    x = np.sort(data)\n",
    "\n",
    "    # y-data for the ECDF: y\n",
    "    y = np.arange(1, n + 1) / n\n",
    "\n",
    "    return x, y\n",
    "\n",
    "# Create an ECDF from real data: x, y\n",
    "x, y = ecdf(df['temperature'])\n",
    "\n",
    "# Create a CDF from theoretical samples: x_theor, y_theor\n",
    "x_theor, y_theor = ecdf(samples)\n",
    "\n",
    "# Overlay the plots\n",
    "_ = plt.plot(x_theor, y_theor)\n",
    "_ = plt.plot(x, y, marker='.', linestyle='none')\n",
    "\n",
    "# Margins and axis labels\n",
    "_ = plt.margins(0.02)\n",
    "_ = plt.xlabel('Temperature')\n",
    "_ = plt.ylabel('CDF')\n",
    "plt.show()"
   ]
  },
  {
   "cell_type": "markdown",
   "metadata": {},
   "source": [
    "The ECDF confirms that the data can be considered normal for statistical purposes.\n",
    "\n",
    "Another way to check for normality is with a probability plot which plots the empirical dataset against a theoretical dataset. Here I will try one:"
   ]
  },
  {
   "cell_type": "code",
   "execution_count": 241,
   "metadata": {},
   "outputs": [
    {
     "data": {
      "text/plain": [
       "Text(0.5,1,'Probability Plot of Temperature')"
      ]
     },
     "execution_count": 241,
     "metadata": {},
     "output_type": "execute_result"
    },
    {
     "data": {
      "image/png": "[encoded data removed]",
      "text/plain": [
       "<Figure size 432x288 with 1 Axes>"
      ]
     },
     "metadata": {},
     "output_type": "display_data"
    }
   ],
   "source": [
    "probplt = stats.probplot(df['temperature'], plot=plt)\n",
    "plt.title('Probability Plot of Temperature')"
   ]
  },
  {
   "cell_type": "markdown",
   "metadata": {},
   "source": [
    "This also confirms that the data are normal.\n",
    "\n",
    "## Question 2. Is the sample size large? Are the observations independent?\n"
   ]
  },
  {
   "cell_type": "code",
   "execution_count": 242,
   "metadata": {},
   "outputs": [
    {
     "name": "stdout",
     "output_type": "stream",
     "text": [
      "The sample size is:   130\n"
     ]
    }
   ],
   "source": [
    "print('The sample size is:  ', len(df))\n"
   ]
  },
  {
   "cell_type": "code",
   "execution_count": 243,
   "metadata": {},
   "outputs": [
    {
     "name": "stdout",
     "output_type": "stream",
     "text": [
      "F    65\n",
      "M    65\n",
      "Name: gender, dtype: int64\n"
     ]
    }
   ],
   "source": [
    "#Return counts of the number of male and female\n",
    "\n",
    "print(df['gender'].value_counts())"
   ]
  },
  {
   "cell_type": "markdown",
   "metadata": {},
   "source": [
    "\n",
    "The central limit theorem states that if you have a population with mean μ and standard deviation σ and take sufficiently large random samples from the population with replacement, then the distribution of the sample means will be approximately normally distributed. \n",
    "\n",
    "This will hold true regardless of whether the source population is normal or skewed, provided the sample size is sufficiently large (usually n > 30). This sample size is greater than 30 so this meets this condition.\n",
    "\n",
    "One of the conditions for the central limit theorem is the 10% rule:  Samples should be no more than 10% of the population from which you are sampling. A sample size of 130 is nowhere near 10% of the population of all men and women so this meets this condition.\n",
    "\n",
    "This means that we can use the normal probability model to quantify uncertainty when making inferences about a population mean based on the sample mean.\n",
    "\n",
    "Source: http://sphweb.bumc.bu.edu/otlt/MPH-Modules/BS/BS704_Probability/BS704_Probability12.html\n",
    "\n",
    "Two observations are **independent** if the occurrence of one observation provides no information about the occurrence of the other observation. This is something that the research design determines, and is difficult to test for after the fact. However, it is reasonable to consider that if there is no correlation (relationship) between observations, and that the observations are normally distributed, they are likely to be independent.\n",
    "\n",
    "First, I will check that the male temperature and female temperature observations are likely to be independent. Meaning, are both male and female termperature observations distributed normally, with no relationship between them. \n",
    "\n",
    "Next, I will check if the variables are independent by doing a jointplot of temperature vs heart rate. "
   ]
  },
  {
   "cell_type": "code",
   "execution_count": 244,
   "metadata": {},
   "outputs": [
    {
     "data": {
      "image/png": "[encoded data removed]",
      "text/plain": [
       "<Figure size 432x288 with 1 Axes>"
      ]
     },
     "metadata": {},
     "output_type": "display_data"
    },
    {
     "name": "stdout",
     "output_type": "stream",
     "text": [
      "        temperature  heart_rate\n",
      "gender                         \n",
      "F         98.393846   74.153846\n",
      "M         98.104615   73.369231\n"
     ]
    }
   ],
   "source": [
    "#Compute the number of bins using the square root rule.\n",
    "nn_bins = np.sqrt(65)\n",
    "\n",
    "#Convert to a integer\n",
    "nn_bins = int(nn_bins)\n",
    "\n",
    "#Plot the histogram with nn_bins number of bins\n",
    "_ = plt.hist(df[df['gender']=='M']['temperature'], bins=nn_bins, color = 'red', density = True)\n",
    "_ = plt.hist(df[df['gender']=='F']['temperature'], bins=nn_bins, color = 'blue', alpha = 0.5, density = True)\n",
    "_ = plt.title('Frequency Distribution for Temperature by Gender')\n",
    "_ = plt.xlabel('Temperature')\n",
    "_ = plt.ylabel('PDF')\n",
    "_ = plt.legend(('Male', 'Female'), loc='upper right')\n",
    "plt.show()\n",
    "\n",
    "print(df.groupby('gender').mean())\n",
    "\n"
   ]
  },
  {
   "cell_type": "code",
   "execution_count": 245,
   "metadata": {},
   "outputs": [
    {
     "data": {
      "image/png": "[encoded data removed]",
      "text/plain": [
       "<Figure size 432x288 with 1 Axes>"
      ]
     },
     "metadata": {},
     "output_type": "display_data"
    },
    {
     "name": "stderr",
     "output_type": "stream",
     "text": [
      "C:\\Users\\Valery\\Anaconda3\\lib\\site-packages\\matplotlib\\axes\\_axes.py:6462: UserWarning: The 'normed' kwarg is deprecated, and has been replaced by the 'density' kwarg.\n",
      "  warnings.warn(\"The 'normed' kwarg is deprecated, and has been \"\n"
     ]
    },
    {
     "data": {
      "image/png": "[encoded data removed]",
      "text/plain": [
       "<Figure size 432x432 with 3 Axes>"
      ]
     },
     "metadata": {},
     "output_type": "display_data"
    }
   ],
   "source": [
    "#Scatterplot of male and female temperatures\n",
    "\n",
    "_ = plt.scatter(df[df['gender']=='M']['temperature'], df[df['gender']=='F']['temperature'])\n",
    "_ = plt.xlabel('Male Temperature')\n",
    "_ = plt.ylabel('Female Temperature')\n",
    "_ = plt.title('Scatterplot of Male and Female Temperatures')\n",
    "\n",
    "plt.show()\n",
    "\n",
    "# Generate a joint plot of 'temperature' and 'heart_rate'\n",
    "_ = sns.jointplot('temperature', 'heart_rate', data=df, kind='reg')\n",
    "\n",
    "# Display the plot\n",
    "plt.show()"
   ]
  },
  {
   "cell_type": "markdown",
   "metadata": {},
   "source": [
    "**CONCLUSION:**  The distributions appear to be normal and are essentially overlapping, apart from more variation in females. Although there are more females with temperatures between 98 and 99. There does not seem to be any relationship between male temperature and female temperature. It is reasonable to consider the observations to be independent.\n",
    "\n",
    "There is a very weak correlation (pearsonr = 0.25) between temperature and heart rate which suggests that they are somewhat independent.\n",
    "\n",
    "## Question 3. Is the true population mean really 98.6 degrees F?\n"
   ]
  },
  {
   "cell_type": "code",
   "execution_count": 246,
   "metadata": {},
   "outputs": [
    {
     "name": "stdout",
     "output_type": "stream",
     "text": [
      "Mean Temperature:   98.24923076923078\n",
      "95% confidence interval = [98.12538462 98.37538462]\n"
     ]
    },
    {
     "data": {
      "image/png": "[encoded data removed]",
      "text/plain": [
       "<Figure size 432x288 with 1 Axes>"
      ]
     },
     "metadata": {},
     "output_type": "display_data"
    }
   ],
   "source": [
    "#Use bootstrap techniques to generate many random samples from our data\n",
    "#and compute confidence intervals.\n",
    "\n",
    "def bootstrap_replicate_1d(data, func):\n",
    "    '''This function generates bootstrap replicates of 1d data'''\n",
    "    return func(np.random.choice(data, size=len(data)))\n",
    "\n",
    "def draw_bs_reps(data, func, size=1):\n",
    "    '''Draw bootstrap replicates.'''\n",
    "\n",
    "    bs_replicates = np.empty(size)\n",
    "\n",
    "    for i in range(size):\n",
    "        bs_replicates[i] = bootstrap_replicate_1d(data,func)\n",
    "\n",
    "    return bs_replicates\n",
    "\n",
    "bs_replicates = draw_bs_reps(df['temperature'], np.mean, 10000)\n",
    "conf_int = np.percentile(bs_replicates,[2.5,97.5])\n",
    "\n",
    "print('Mean Temperature:  ', df['temperature'].mean())\n",
    "print('95% confidence interval =', conf_int)\n",
    "\n",
    "#Create a pdf histogram of results\n",
    "_ = plt.hist(bs_replicates, bins=50, density=True)\n",
    "_ = plt.xlabel('Mean Temperature')\n",
    "_ = plt.ylabel('PDF')"
   ]
  },
  {
   "cell_type": "markdown",
   "metadata": {},
   "source": [
    "**CONCLUSION:** It would appear from this analysis that the true temperature is **NOT** 98.6.\n",
    "\n",
    "Next, I will test the hypothesis using frequentist methods.\n",
    "\n",
    "A z-test is used for testing the mean of a population versus a standard with large (n ≥ 30) sample sizes. A t-test is used for testing the mean of one population against a standard or comparing the means of two populations when you have a limited sample size (n < 30). Our sample size is 130 so the z-test is a more appropriate test. \n",
    "\n",
    "A one-sample test is more appropriate because we are testing a sample mean against a known value. In this case, the known value is 98.6. \n",
    "\n",
    "The null hypothesis is that our sample mean does not differ from 98.6:\n",
    "\n",
    "H0: μ = 98.6\n",
    "\n",
    "The alternative hypothesis is that our sample mean is not equal to 98.6 or,\n",
    " \n",
    "H1: μ ≠ 98.6"
   ]
  },
  {
   "cell_type": "code",
   "execution_count": 247,
   "metadata": {},
   "outputs": [
    {
     "name": "stdout",
     "output_type": "stream",
     "text": [
      "z-value is:   -5.4548\n",
      "p-value is:  0.0\n"
     ]
    }
   ],
   "source": [
    "mew = df['temperature'].mean()\n",
    "stdev = df['temperature'].std()\n",
    "\n",
    "known_val = 98.6\n",
    "\n",
    "z_stat = (mew - known_val) / (stdev/np.sqrt(len(df)))\n",
    "p_value = 2 * (1 - stats.norm.cdf(abs(z_stat)))\n",
    "\n",
    "print('z-value is:  ', z_stat.round(4))\n",
    "print('p-value is: ', p_value.round(4))"
   ]
  },
  {
   "cell_type": "markdown",
   "metadata": {},
   "source": [
    "**CONCLUSION:**  The p-value is very small, so we can reject the null hypothesis and state that the sample mean is **NOT** equal to 98.6.\n",
    "\n",
    "Now I will try a one-sample t-test. "
   ]
  },
  {
   "cell_type": "code",
   "execution_count": 248,
   "metadata": {},
   "outputs": [
    {
     "data": {
      "text/plain": [
       "Ttest_1sampResult(statistic=-5.4548232923645195, pvalue=2.4106320415561276e-07)"
      ]
     },
     "execution_count": 248,
     "metadata": {},
     "output_type": "execute_result"
    }
   ],
   "source": [
    "t_test = stats.ttest_1samp(df['temperature'], known_val, axis=0)\n",
    "t_test"
   ]
  },
  {
   "cell_type": "markdown",
   "metadata": {},
   "source": [
    "The results are the same because the sample size is >30. The t-test confirms the z-test, and the bootstrapping technique. \n",
    "\n",
    "## Question 4. Draw a small sample of size 10 from the data and repeat both frequentist tests.\n",
    "\n",
    "Here, the sample size is <30, so the t-test would be the correct method to choose. \n",
    "\n",
    "Which one is the correct one to use?\n",
    "What do you notice? What does this tell you about the difference in application of the  tt  and  zz  statistic?\n"
   ]
  },
  {
   "cell_type": "code",
   "execution_count": 249,
   "metadata": {},
   "outputs": [
    {
     "name": "stdout",
     "output_type": "stream",
     "text": [
      "Ttest_1sampResult(statistic=-0.06436269366461955, pvalue=0.9487810654699468)\n",
      " \n",
      "z-value is:   -0.0646\n",
      "p-value is:  0.9485\n"
     ]
    }
   ],
   "source": [
    "draw_sample = np.random.normal(df['temperature'], 10)\n",
    "\n",
    "draw_mean = draw_sample.mean()\n",
    "draw_stdev = draw_sample.std()\n",
    "\n",
    "\n",
    "z_stat = (draw_mean - known_val) / (draw_stdev/np.sqrt(len(df)))\n",
    "p_value = 2 * (1 - stats.norm.cdf(abs(z_stat)))\n",
    "\n",
    "t_test = stats.ttest_1samp(draw_sample, known_val, axis=0)\n",
    "print(t_test)\n",
    "print(' ')\n",
    "print('z-value is:  ', z_stat.round(4))\n",
    "print('p-value is: ', p_value.round(4))"
   ]
  },
  {
   "cell_type": "markdown",
   "metadata": {},
   "source": [
    "**CONCLUSION:** In neither case can we reject the null hypothesis. The sample size is too small. However, for small sample sizes the t-test is usually more appropriate. "
   ]
  },
  {
   "cell_type": "markdown",
   "metadata": {},
   "source": [
    "## Question 5. At what temperature should we consider someone's temperature to be \"abnormal\"?\n"
   ]
  },
  {
   "cell_type": "code",
   "execution_count": 250,
   "metadata": {},
   "outputs": [
    {
     "name": "stdout",
     "output_type": "stream",
     "text": [
      "Mean Temperature:   98.24923076923078\n",
      "The standard error of the mean:   0.06405661469519336\n",
      "Extreme values are those less than:   98.0570609251452  and  higher than:   98.44140061331636\n",
      "  \n",
      "99% confidence interval = [98.08153846 98.41923077]\n"
     ]
    },
    {
     "data": {
      "image/png": "[encoded data removed]",
      "text/plain": [
       "<Figure size 432x288 with 1 Axes>"
      ]
     },
     "metadata": {},
     "output_type": "display_data"
    }
   ],
   "source": [
    "#Calculate temperature mean\n",
    "temp_mean = df['temperature'].mean()\n",
    "print('Mean Temperature:  ', temp_mean)\n",
    "\n",
    "# Compute and print SEM\n",
    "sem = np.std(df['temperature']) / np.sqrt(len(df['temperature']))\n",
    "print('The standard error of the mean:  ', sem)\n",
    "\n",
    "\n",
    "lower = temp_mean - 3*sem\n",
    "upper = temp_mean + 3*sem\n",
    "\n",
    "print('Extreme values are those less than:  ', lower, ' and ', 'higher than:  ', upper)\n",
    "print('  ')\n",
    "\n",
    "#Use bootstrap techniques to generate many random samples from our data\n",
    "#and compute confidence intervals.\n",
    "\n",
    "def bootstrap_replicate_1d(data, func):\n",
    "    '''This function generates bootstrap replicates of 1d data'''\n",
    "    return func(np.random.choice(data, size=len(data)))\n",
    "\n",
    "def draw_bs_reps(data, func, size=1):\n",
    "    '''Draw bootstrap replicates.'''\n",
    "\n",
    "    bs_replicates = np.empty(size)\n",
    "\n",
    "    for i in range(size):\n",
    "        bs_replicates[i] = bootstrap_replicate_1d(data,func)\n",
    "\n",
    "    return bs_replicates\n",
    "\n",
    "bs_replicates = draw_bs_reps(df['temperature'], np.mean, 10000)\n",
    "conf_int = np.percentile(bs_replicates,[0.5,99.5])\n",
    "\n",
    "\n",
    "print('99% confidence interval =', conf_int)\n",
    "\n",
    "#Create a pdf histogram of results\n",
    "_ = plt.hist(bs_replicates, bins=50, density=True)\n",
    "_ = plt.xlabel('Mean Temperature')\n",
    "_ = plt.ylabel('PDF')\n"
   ]
  },
  {
   "cell_type": "markdown",
   "metadata": {},
   "source": [
    "**CONCLUSION:**  The standard error of the mean is the standard deviation of the sampling distribution of the mean. We would consider anything outside 3 sigmas to be extreme. The values are below 98.057 and above 98.44.\n",
    "\n",
    "Another way of determining extreme values is to look at the 99% confidence interval. Values below 98.08 and above 98.41 are considered extreme. These two methods produced extreme values that are very close.\n",
    "\n",
    "## Question 6. Is there a significant difference between males and females in normal temperature?\n"
   ]
  },
  {
   "cell_type": "code",
   "execution_count": 251,
   "metadata": {},
   "outputs": [
    {
     "data": {
      "text/html": [
       "<div>\n",
       "<style scoped>\n",
       "    .dataframe tbody tr th:only-of-type {\n",
       "        vertical-align: middle;\n",
       "    }\n",
       "\n",
       "    .dataframe tbody tr th {\n",
       "        vertical-align: top;\n",
       "    }\n",
       "\n",
       "    .dataframe thead th {\n",
       "        text-align: right;\n",
       "    }\n",
       "</style>\n",
       "<table border=\"1\" class=\"dataframe\">\n",
       "  <thead>\n",
       "    <tr style=\"text-align: right;\">\n",
       "      <th></th>\n",
       "      <th>temperature</th>\n",
       "      <th>heart_rate</th>\n",
       "    </tr>\n",
       "    <tr>\n",
       "      <th>gender</th>\n",
       "      <th></th>\n",
       "      <th></th>\n",
       "    </tr>\n",
       "  </thead>\n",
       "  <tbody>\n",
       "    <tr>\n",
       "      <th>F</th>\n",
       "      <td>98.393846</td>\n",
       "      <td>74.153846</td>\n",
       "    </tr>\n",
       "    <tr>\n",
       "      <th>M</th>\n",
       "      <td>98.104615</td>\n",
       "      <td>73.369231</td>\n",
       "    </tr>\n",
       "  </tbody>\n",
       "</table>\n",
       "</div>"
      ],
      "text/plain": [
       "        temperature  heart_rate\n",
       "gender                         \n",
       "F         98.393846   74.153846\n",
       "M         98.104615   73.369231"
      ]
     },
     "execution_count": 251,
     "metadata": {},
     "output_type": "execute_result"
    }
   ],
   "source": [
    "df.groupby('gender').mean()\n",
    "               "
   ]
  },
  {
   "cell_type": "code",
   "execution_count": 252,
   "metadata": {},
   "outputs": [
    {
     "data": {
      "image/png": "[encoded data removed]",
      "text/plain": [
       "<Figure size 432x288 with 1 Axes>"
      ]
     },
     "metadata": {},
     "output_type": "display_data"
    }
   ],
   "source": [
    "# Create bee swarm plot with Seaborn's default settings\n",
    "_ = sns.swarmplot(x='gender', y='temperature', data=df)\n",
    "\n",
    "\n",
    "# Label the axes\n",
    "_ = plt.xlabel('Gender')\n",
    "_ = plt.ylabel('temperature')\n",
    "\n",
    "# Show the plot\n",
    "plt.show()"
   ]
  },
  {
   "cell_type": "markdown",
   "metadata": {},
   "source": [
    "It looks as if these are two independent distributions (I tested independence for them earlier) so I can use a two sample t-test that compares the means of two independent samples of scores.\n",
    "\n",
    "The null hypothesis is that the sample mean for females does not differ from the sample mean for males:\n",
    "\n",
    "H0: mean(F) = mean(M)\n",
    "\n",
    "The alternative hypothesis is that our sample mean is not equal to 98.6 or,\n",
    "\n",
    "H1: mean(F) ≠ mean(M)"
   ]
  },
  {
   "cell_type": "code",
   "execution_count": 253,
   "metadata": {},
   "outputs": [
    {
     "data": {
      "text/plain": [
       "Ttest_indResult(statistic=2.285434538165611, pvalue=0.023938264182934196)"
      ]
     },
     "execution_count": 253,
     "metadata": {},
     "output_type": "execute_result"
    }
   ],
   "source": [
    "stats.ttest_ind(df[df['gender']=='F']['temperature'], \n",
    "                df[df['gender']=='M']['temperature'], axis=0, equal_var=False)"
   ]
  },
  {
   "cell_type": "markdown",
   "metadata": {},
   "source": [
    "**CONCLUSION:**  The p-value is less than 0.05 which allows us to reject the null hypothesis and conclude that the mean temperature is different for females and males.\n",
    "\n",
    "## Final Thoughts\n",
    "\n",
    "The purpose of this investigation was to determine if the mean normal body temperature of 98.6, that was determined by Carl Wunderlich in 1868, is statistically valid. I have shown that indeed it is not statistically valid (p < 0.001) and furthermore both male and female mean temperatures are below 98.6. Female mean temperatures are slightly higher than male mean temperature at p < 0.05. \n",
    "\n"
   ]
  }
 ],
 "metadata": {
  "kernelspec": {
   "display_name": "Python 3",
   "language": "python",
   "name": "python3"
  },
  "language_info": {
   "codemirror_mode": {
    "name": "ipython",
    "version": 3
   },
   "file_extension": ".py",
   "mimetype": "text/x-python",
   "name": "python",
   "nbconvert_exporter": "python",
   "pygments_lexer": "ipython3",
   "version": "3.6.4"
  }
 },
 "nbformat": 4,
 "nbformat_minor": 1
}
