{
 "cells": [
  {
   "cell_type": "markdown",
   "metadata": {},
   "source": [
    "# Examining Racial Discrimination in the US Job Market\n",
    "\n",
    "### Background\n",
    "Racial discrimination continues to be pervasive in cultures throughout the world. Researchers examined the level of racial discrimination in the United States labor market by randomly assigning identical résumés to black-sounding or white-sounding names and observing the impact on requests for interviews from employers.\n",
    "\n",
    "### Data\n",
    "In the dataset provided, each row represents a resume. The 'race' column has two values, 'b' and 'w', indicating black-sounding and white-sounding. The column 'call' has two values, 1 and 0, indicating whether the resume received a call from employers or not.\n",
    "\n",
    "Note that the 'b' and 'w' values in race are assigned randomly to the resumes when presented to the employer."
   ]
  },
  {
   "cell_type": "markdown",
   "metadata": {},
   "source": [
    "### Exercises\n",
    "You will perform a statistical analysis to establish whether race has a significant impact on the rate of callbacks for resumes.\n",
    "\n",
    "Answer the following questions **in this notebook below and submit to your Github account**. \n",
    "\n",
    "   1. What test is appropriate for this problem? Does CLT apply?\n",
    "   2. What are the null and alternate hypotheses?\n",
    "   3. Compute margin of error, confidence interval, and p-value. Try using both the bootstrapping and the frequentist statistical approaches.\n",
    "   4. Write a story describing the statistical significance in the context or the original problem.\n",
    "   5. Does your analysis mean that race/name is the most important factor in callback success? Why or why not? If not, how would you amend your analysis?\n",
    "\n",
    "You can include written notes in notebook cells using Markdown: \n",
    "   - In the control panel at the top, choose Cell > Cell Type > Markdown\n",
    "   - Markdown syntax: http://nestacms.com/docs/creating-content/markdown-cheat-sheet\n",
    "\n",
    "#### Resources\n",
    "+ Experiment information and data source: http://www.povertyactionlab.org/evaluation/discrimination-job-market-united-states\n",
    "+ Scipy statistical methods: http://docs.scipy.org/doc/scipy/reference/stats.html \n",
    "+ Markdown syntax: http://nestacms.com/docs/creating-content/markdown-cheat-sheet\n",
    "+ Formulas for the Bernoulli distribution: https://en.wikipedia.org/wiki/Bernoulli_distribution"
   ]
  },
  {
   "cell_type": "code",
   "execution_count": 2,
   "metadata": {},
   "outputs": [],
   "source": [
    "import pandas as pd\n",
    "import numpy as np\n",
    "from scipy import stats"
   ]
  },
  {
   "cell_type": "code",
   "execution_count": 3,
   "metadata": {},
   "outputs": [],
   "source": [
    "data = pd.io.stata.read_stata('data/us_job_market_discrimination.dta')"
   ]
  },
  {
   "cell_type": "code",
   "execution_count": 4,
   "metadata": {},
   "outputs": [
    {
     "data": {
      "text/plain": [
       "235.0"
      ]
     },
     "execution_count": 4,
     "metadata": {},
     "output_type": "execute_result"
    }
   ],
   "source": [
    "# number of callbacks for black-sounding names\n",
    "sum(data[data.race=='w'].call)"
   ]
  },
  {
   "cell_type": "code",
   "execution_count": 5,
   "metadata": {},
   "outputs": [
    {
     "data": {
      "text/html": [
       "<div>\n",
       "<style scoped>\n",
       "    .dataframe tbody tr th:only-of-type {\n",
       "        vertical-align: middle;\n",
       "    }\n",
       "\n",
       "    .dataframe tbody tr th {\n",
       "        vertical-align: top;\n",
       "    }\n",
       "\n",
       "    .dataframe thead th {\n",
       "        text-align: right;\n",
       "    }\n",
       "</style>\n",
       "<table border=\"1\" class=\"dataframe\">\n",
       "  <thead>\n",
       "    <tr style=\"text-align: right;\">\n",
       "      <th></th>\n",
       "      <th>id</th>\n",
       "      <th>ad</th>\n",
       "      <th>education</th>\n",
       "      <th>ofjobs</th>\n",
       "      <th>yearsexp</th>\n",
       "      <th>honors</th>\n",
       "      <th>volunteer</th>\n",
       "      <th>military</th>\n",
       "      <th>empholes</th>\n",
       "      <th>occupspecific</th>\n",
       "      <th>...</th>\n",
       "      <th>compreq</th>\n",
       "      <th>orgreq</th>\n",
       "      <th>manuf</th>\n",
       "      <th>transcom</th>\n",
       "      <th>bankreal</th>\n",
       "      <th>trade</th>\n",
       "      <th>busservice</th>\n",
       "      <th>othservice</th>\n",
       "      <th>missind</th>\n",
       "      <th>ownership</th>\n",
       "    </tr>\n",
       "  </thead>\n",
       "  <tbody>\n",
       "    <tr>\n",
       "      <th>0</th>\n",
       "      <td>b</td>\n",
       "      <td>1</td>\n",
       "      <td>4</td>\n",
       "      <td>2</td>\n",
       "      <td>6</td>\n",
       "      <td>0</td>\n",
       "      <td>0</td>\n",
       "      <td>0</td>\n",
       "      <td>1</td>\n",
       "      <td>17</td>\n",
       "      <td>...</td>\n",
       "      <td>1.0</td>\n",
       "      <td>0.0</td>\n",
       "      <td>1.0</td>\n",
       "      <td>0.0</td>\n",
       "      <td>0.0</td>\n",
       "      <td>0.0</td>\n",
       "      <td>0.0</td>\n",
       "      <td>0.0</td>\n",
       "      <td>0.0</td>\n",
       "      <td></td>\n",
       "    </tr>\n",
       "    <tr>\n",
       "      <th>1</th>\n",
       "      <td>b</td>\n",
       "      <td>1</td>\n",
       "      <td>3</td>\n",
       "      <td>3</td>\n",
       "      <td>6</td>\n",
       "      <td>0</td>\n",
       "      <td>1</td>\n",
       "      <td>1</td>\n",
       "      <td>0</td>\n",
       "      <td>316</td>\n",
       "      <td>...</td>\n",
       "      <td>1.0</td>\n",
       "      <td>0.0</td>\n",
       "      <td>1.0</td>\n",
       "      <td>0.0</td>\n",
       "      <td>0.0</td>\n",
       "      <td>0.0</td>\n",
       "      <td>0.0</td>\n",
       "      <td>0.0</td>\n",
       "      <td>0.0</td>\n",
       "      <td></td>\n",
       "    </tr>\n",
       "    <tr>\n",
       "      <th>2</th>\n",
       "      <td>b</td>\n",
       "      <td>1</td>\n",
       "      <td>4</td>\n",
       "      <td>1</td>\n",
       "      <td>6</td>\n",
       "      <td>0</td>\n",
       "      <td>0</td>\n",
       "      <td>0</td>\n",
       "      <td>0</td>\n",
       "      <td>19</td>\n",
       "      <td>...</td>\n",
       "      <td>1.0</td>\n",
       "      <td>0.0</td>\n",
       "      <td>1.0</td>\n",
       "      <td>0.0</td>\n",
       "      <td>0.0</td>\n",
       "      <td>0.0</td>\n",
       "      <td>0.0</td>\n",
       "      <td>0.0</td>\n",
       "      <td>0.0</td>\n",
       "      <td></td>\n",
       "    </tr>\n",
       "    <tr>\n",
       "      <th>3</th>\n",
       "      <td>b</td>\n",
       "      <td>1</td>\n",
       "      <td>3</td>\n",
       "      <td>4</td>\n",
       "      <td>6</td>\n",
       "      <td>0</td>\n",
       "      <td>1</td>\n",
       "      <td>0</td>\n",
       "      <td>1</td>\n",
       "      <td>313</td>\n",
       "      <td>...</td>\n",
       "      <td>1.0</td>\n",
       "      <td>0.0</td>\n",
       "      <td>1.0</td>\n",
       "      <td>0.0</td>\n",
       "      <td>0.0</td>\n",
       "      <td>0.0</td>\n",
       "      <td>0.0</td>\n",
       "      <td>0.0</td>\n",
       "      <td>0.0</td>\n",
       "      <td></td>\n",
       "    </tr>\n",
       "    <tr>\n",
       "      <th>4</th>\n",
       "      <td>b</td>\n",
       "      <td>1</td>\n",
       "      <td>3</td>\n",
       "      <td>3</td>\n",
       "      <td>22</td>\n",
       "      <td>0</td>\n",
       "      <td>0</td>\n",
       "      <td>0</td>\n",
       "      <td>0</td>\n",
       "      <td>313</td>\n",
       "      <td>...</td>\n",
       "      <td>1.0</td>\n",
       "      <td>1.0</td>\n",
       "      <td>0.0</td>\n",
       "      <td>0.0</td>\n",
       "      <td>0.0</td>\n",
       "      <td>0.0</td>\n",
       "      <td>0.0</td>\n",
       "      <td>1.0</td>\n",
       "      <td>0.0</td>\n",
       "      <td>Nonprofit</td>\n",
       "    </tr>\n",
       "  </tbody>\n",
       "</table>\n",
       "<p>5 rows × 65 columns</p>\n",
       "</div>"
      ],
      "text/plain": [
       "  id ad  education  ofjobs  yearsexp  honors  volunteer  military  empholes  \\\n",
       "0  b  1          4       2         6       0          0         0         1   \n",
       "1  b  1          3       3         6       0          1         1         0   \n",
       "2  b  1          4       1         6       0          0         0         0   \n",
       "3  b  1          3       4         6       0          1         0         1   \n",
       "4  b  1          3       3        22       0          0         0         0   \n",
       "\n",
       "   occupspecific    ...      compreq  orgreq  manuf  transcom  bankreal trade  \\\n",
       "0             17    ...          1.0     0.0    1.0       0.0       0.0   0.0   \n",
       "1            316    ...          1.0     0.0    1.0       0.0       0.0   0.0   \n",
       "2             19    ...          1.0     0.0    1.0       0.0       0.0   0.0   \n",
       "3            313    ...          1.0     0.0    1.0       0.0       0.0   0.0   \n",
       "4            313    ...          1.0     1.0    0.0       0.0       0.0   0.0   \n",
       "\n",
       "  busservice othservice  missind  ownership  \n",
       "0        0.0        0.0      0.0             \n",
       "1        0.0        0.0      0.0             \n",
       "2        0.0        0.0      0.0             \n",
       "3        0.0        0.0      0.0             \n",
       "4        0.0        1.0      0.0  Nonprofit  \n",
       "\n",
       "[5 rows x 65 columns]"
      ]
     },
     "execution_count": 5,
     "metadata": {},
     "output_type": "execute_result"
    }
   ],
   "source": [
    "data.head()"
   ]
  },
  {
   "cell_type": "code",
   "execution_count": 6,
   "metadata": {},
   "outputs": [
    {
     "data": {
      "text/plain": [
       "(4870, 65)"
      ]
     },
     "execution_count": 6,
     "metadata": {},
     "output_type": "execute_result"
    }
   ],
   "source": [
    "data.shape\n"
   ]
  },
  {
   "cell_type": "code",
   "execution_count": 7,
   "metadata": {},
   "outputs": [
    {
     "name": "stdout",
     "output_type": "stream",
     "text": [
      "0\n",
      "0\n"
     ]
    }
   ],
   "source": [
    "print(sum(data['race'].isnull()))\n",
    "print(sum(data['call'].isnull()))"
   ]
  },
  {
   "cell_type": "code",
   "execution_count": 8,
   "metadata": {},
   "outputs": [
    {
     "name": "stdout",
     "output_type": "stream",
     "text": [
      "2435 2435 4870\n"
     ]
    },
    {
     "data": {
      "text/plain": [
       "True"
      ]
     },
     "execution_count": 8,
     "metadata": {},
     "output_type": "execute_result"
    }
   ],
   "source": [
    "ssize_b = data[data.race=='b'].count()\n",
    "n_b = ssize_b['race']\n",
    "ssize_w = data[data.race=='w'].count()\n",
    "n_w = ssize_b['race']\n",
    "n = n_b + n_w\n",
    "\n",
    "print(n_b, n_w, n)\n",
    "n == len(data['race'])"
   ]
  },
  {
   "cell_type": "code",
   "execution_count": 9,
   "metadata": {},
   "outputs": [
    {
     "data": {
      "text/html": [
       "<div>\n",
       "<style scoped>\n",
       "    .dataframe tbody tr th:only-of-type {\n",
       "        vertical-align: middle;\n",
       "    }\n",
       "\n",
       "    .dataframe tbody tr th {\n",
       "        vertical-align: top;\n",
       "    }\n",
       "\n",
       "    .dataframe thead th {\n",
       "        text-align: right;\n",
       "    }\n",
       "</style>\n",
       "<table border=\"1\" class=\"dataframe\">\n",
       "  <thead>\n",
       "    <tr style=\"text-align: right;\">\n",
       "      <th></th>\n",
       "      <th>sample_size</th>\n",
       "      <th>num_success</th>\n",
       "      <th>freq_success</th>\n",
       "      <th>populations</th>\n",
       "    </tr>\n",
       "  </thead>\n",
       "  <tbody>\n",
       "    <tr>\n",
       "      <th>0</th>\n",
       "      <td>2435</td>\n",
       "      <td>157.0</td>\n",
       "      <td>0.064476</td>\n",
       "      <td>Black name</td>\n",
       "    </tr>\n",
       "    <tr>\n",
       "      <th>1</th>\n",
       "      <td>2435</td>\n",
       "      <td>235.0</td>\n",
       "      <td>0.096509</td>\n",
       "      <td>White name</td>\n",
       "    </tr>\n",
       "  </tbody>\n",
       "</table>\n",
       "</div>"
      ],
      "text/plain": [
       "   sample_size  num_success  freq_success populations\n",
       "0         2435        157.0      0.064476  Black name\n",
       "1         2435        235.0      0.096509  White name"
      ]
     },
     "execution_count": 9,
     "metadata": {},
     "output_type": "execute_result"
    }
   ],
   "source": [
    "# Create dataframe for 2 populations(sample size and proportion of successes)\n",
    "success_b = sum(data[data.race=='b'].call)\n",
    "success_w = sum(data[data.race=='w'].call)\n",
    "freq_b = success_b/n_b\n",
    "freq_w = success_w/n_w\n",
    "\n",
    "d = {'sample_size': [n_b, n_w], 'num_success': [success_b, success_w], 'freq_success':[freq_b, freq_w], \n",
    "     'populations': ['Black name', 'White name']}\n",
    "table1 = pd.DataFrame(data=d)\n",
    "\n",
    "table1"
   ]
  },
  {
   "cell_type": "code",
   "execution_count": 10,
   "metadata": {},
   "outputs": [
    {
     "name": "stdout",
     "output_type": "stream",
     "text": [
      "157.0\n",
      "True\n",
      "235.0\n",
      "True\n"
     ]
    }
   ],
   "source": [
    "#Determine if sample size is large enough for confidence intervals\n",
    "lg_sampleb = n_b * freq_b\n",
    "print(lg_sampleb)\n",
    "print(lg_sampleb >= 10)\n",
    "\n",
    "lg_samplew = n_w * freq_w\n",
    "print(lg_samplew)\n",
    "print(lg_samplew >= 10)"
   ]
  },
  {
   "cell_type": "markdown",
   "metadata": {
    "collapsed": true
   },
   "source": [
    "<div class=\"span5 alert alert-success\">\n",
    "<p>Your answers to Q1 and Q2 here</p>\n",
    "</div>\n",
    "\n",
    "**What test is appropriate for this problem? Does CLT apply?**\n",
    "This data represents samples from two populations, black names and white names. We are told that the two samples are randomly assigned to the employers. Therefore they can be considered independent because names making up one sample do not influence the selection of names from the other sample. \n",
    "\n",
    "We can compare these two population based on 'success' proportions. Success is defined as having received a call from an employer. The table above shows the number and frequency of success (# calls) for each population, Black name or White name. We can construct a large-sample confidence interval for a difference in population proportions. The following conditions must be met:\n",
    "\n",
    "1. The samples are independent random samples from the populations of interest.\n",
    "2. The sample sizes are large. This criteria is met when the sample size multiplied by the sample proportion is greater than or equal to 10. Shown above, samples for both populations are large enough.\n",
    "\n",
    "It is also possible to take multiple samples with replacement from this large a sample for each population. A bootstrapping method could done using assumptions about the Central Limit Theorem to create normal distributions of the means from a large number of samples. The Central Limit Theorem states that as the sample size increases, the distribution approaches a normal distribution. We can then conduct a t-test to test the difference between these two distributions.\n",
    "\n",
    "The CLT has one additional assumption that:\n",
    "\n",
    "When the sample is drawn without replacement the sample size, n, should be no more than 10% of the population. If we consider the population to be all black sounding names and all white sounding names in the job market today, then it is easy to meet this criteria. Even if we limit ourselves to just these numbers as the populations, so long as we draw samples less than 243 (approximately 10% of 2435) we will meet this condition.\n",
    "\n",
    "**What are the null and alternate hypotheses?**\n",
    "\n",
    "Ho: There is no difference in the frequency of employer calls between the two popultions Black names and White names.\n",
    "Ha: There is a difference in the frequency of employer calls between the two popultions Black names and White names.\n",
    "\n",
    "Mathematically this looks like:\n",
    "\n",
    "Ho:  p1 - p2 = 0 where p1 and p2 are the population proportions of successes in each population.\n",
    "\n",
    "Ha:  p1 - p2 != 0"
   ]
  },
  {
   "cell_type": "code",
   "execution_count": 11,
   "metadata": {},
   "outputs": [],
   "source": [
    "w = data[data.race=='w']\n",
    "b = data[data.race=='b']"
   ]
  },
  {
   "cell_type": "markdown",
   "metadata": {},
   "source": [
    "**Compute margin of error, confidence interval, and p-value. Try using both the bootstrapping and the frequentist statistical approaches.**\n",
    "\n",
    "\n",
    "\n",
    "## Frequentist Approach:\n",
    "\n",
    "NOTE: I wanted to practice writing and using functions, so I've done the frequentist approach \"long-hand\" by creating functions with raw calculations."
   ]
  },
  {
   "cell_type": "markdown",
   "metadata": {},
   "source": [
    "### Margin of error"
   ]
  },
  {
   "cell_type": "code",
   "execution_count": 12,
   "metadata": {},
   "outputs": [
    {
     "name": "stdout",
     "output_type": "stream",
     "text": [
      "Margin of error for black name successes:  0.009755158027911414\n",
      "Margin of error for white name successes:  0.011728781469131009 \n",
      "\n",
      "INTERPRETATION:\n",
      "\n",
      "For black name successes the frequency is  0.064\n",
      "It is unlikely that it will differ from the actual population by more than 0.01\n",
      "\n",
      "For white name successes the frequency is  0.097\n",
      "It is unlikely that it will differ from the actual population by more than 0.012\n"
     ]
    }
   ],
   "source": [
    "import math\n",
    "\n",
    "#Calculate margins of error for each population\n",
    "def marg_error(p, n_p):\n",
    "    \"\"\"This function calculates the margin of error for a population\"\"\"\n",
    "    x_me = (p*(1-p))/n_p\n",
    "    sqroot_me = math.sqrt(x_me)\n",
    "\n",
    "    me = 1.96*sqroot_me\n",
    "    return me\n",
    "\n",
    "#Call functions on both populations\n",
    "me_b = marg_error(freq_b, n_b)\n",
    "me_w = marg_error(freq_w, n_w)\n",
    "\n",
    "print('Margin of error for black name successes: ', me_b)\n",
    "print('Margin of error for white name successes: ', me_w, '\\n')\n",
    "\n",
    "print('INTERPRETATION:\\n')\n",
    "print('For black name successes the frequency is ', round(freq_b, 3))\n",
    "print('It is unlikely that it will differ from the actual population by more than', round(me_b, 3))\n",
    "print('\\nFor white name successes the frequency is ', round(freq_w, 3))\n",
    "print('It is unlikely that it will differ from the actual population by more than', round(me_w, 3))"
   ]
  },
  {
   "cell_type": "markdown",
   "metadata": {},
   "source": [
    "### Confidence Interval"
   ]
  },
  {
   "cell_type": "code",
   "execution_count": 18,
   "metadata": {},
   "outputs": [
    {
     "name": "stdout",
     "output_type": "stream",
     "text": [
      "Actual difference in proportions:  -0.032032854209445585\n",
      "Confidence Interval:  -0.047288260559332024 ,  -0.016777447859559147\n",
      "The interval contains the actual difference.\n"
     ]
    }
   ],
   "source": [
    "\n",
    "\n",
    "#Create functions for 95% CI\n",
    "def upper(p1, p2, n1, n2):\n",
    "    \"\"\"These functions calculates the Confidence interval for the difference between 2 populations\"\"\"\n",
    "\n",
    "    x_ci = ((p1*(1-p1))/n1) + ((p2*(1-p2))/n2)\n",
    "    sqroot = math.sqrt(x_ci)\n",
    "    \n",
    "    ci_upper = (p1 - p2) + (1.96 * sqroot)\n",
    "    return ci_upper\n",
    "\n",
    "def lower(p1, p2, n1, n2):\n",
    "    x_ci = ((p1*(1-p1))/n1) + ((p2*(1-p2))/n2)\n",
    "    sqroot = math.sqrt(x_ci)\n",
    "    \n",
    "    ci_lower = (p1 - p2) - (1.96 * sqroot)\n",
    "    return ci_lower\n",
    "\n",
    "#Call functions upper and lower for the data\n",
    "ci_up = upper(freq_b, freq_w, n_b, n_w)\n",
    "ci_low = lower(freq_b, freq_w, n_b, n_w)\n",
    "\n",
    "#Print out actual difference in proportions\n",
    "diff = freq_b - freq_w\n",
    "print('Actual difference in proportions: ', diff)\n",
    "\n",
    "#Print out 95% confidence interval\n",
    "print('Confidence Interval: ', ci_low, ', ', ci_up)\n",
    "\n",
    "if diff >= ci_low and diff <= ci_up:\n",
    "    print('The interval contains the actual difference.')\n",
    "else:\n",
    "    print('The interval does not contain the actual difference.')\n"
   ]
  },
  {
   "cell_type": "markdown",
   "metadata": {},
   "source": [
    "**Interpretation:**\n",
    "The confidence interval contains the actual difference in proportions, and does not contain zero. We can conclude that the sample proportions are different and that applications with black sounding names received fewer calls from employers.\n",
    "\n",
    "### Calculate p-value"
   ]
  },
  {
   "cell_type": "code",
   "execution_count": 19,
   "metadata": {},
   "outputs": [
    {
     "name": "stdout",
     "output_type": "stream",
     "text": [
      "Z_score:  -4.108412152434346\n",
      "P-value:  3.983886837585077e-05\n",
      "The difference is significant.\n"
     ]
    }
   ],
   "source": [
    "freq_tot = (success_b + success_w)/n\n",
    "\n",
    "def z_score(p1, p2, n1, n2, pc):\n",
    "    \"\"\"This function calculates the z-score for the difference between 2 populations\"\"\"\n",
    "    x_p = ((pc*(1-pc))/n1) + ((pc*(1-pc))/n2)\n",
    "    sqroot_p = math.sqrt(x_p)\n",
    "    z = (p1-p2)/sqroot_p\n",
    "    return z\n",
    "\n",
    "z_score_p = z_score(freq_b, freq_w, n_b, n_w, freq_tot)\n",
    "prob = stats.norm.cdf(z_score_p)\n",
    "\n",
    "#p-value is twice the area under the curve to the right or left of z_score\n",
    "p_val = 2*prob\n",
    "print('Z_score: ', z_score_p)\n",
    "print('P-value: ', p_val)\n",
    "\n",
    "if (p_val < 0.05):\n",
    "    print('The difference is significant.')\n",
    "else:\n",
    "    print('There is no significant difference between the populations.')"
   ]
  },
  {
   "cell_type": "markdown",
   "metadata": {},
   "source": [
    "## Hacker Statistics\n",
    "\n",
    "Here I will use bootstrapping to simulate taking multiple samples (assuming CLT conditions are met) and estimating the parameters of the distributions. From this I can generate confidence intervals and conduct hypothesis testing. \n",
    "\n",
    "First, I will compute a bootstrap estimate of the probability density function of the frequency of successes for each population.  These are probabilistic estimates of the frequencies of successes (calls from employers). I will plot the PDF as a histogram, and test that it is Normal."
   ]
  },
  {
   "cell_type": "code",
   "execution_count": 73,
   "metadata": {},
   "outputs": [
    {
     "name": "stdout",
     "output_type": "stream",
     "text": [
      "Mean black names:  156.9547\n",
      "Mean white names:  235.064 \n",
      "\n",
      "SEM black names:  0.1220898226348126\n",
      "SEM white names:  0.14664327601359703 \n",
      "\n",
      "Standard deviation black names:  12.208982263481259\n",
      "Standard deviation white names:  14.664327601359702\n"
     ]
    }
   ],
   "source": [
    "def bootstrap_replicate_1d(data, func):\n",
    "    return func(np.random.choice(data, size=len(data)))\n",
    "\n",
    "def draw_bs_reps(data, func, size=1):\n",
    "    \"\"\"Draw bootstrap replicates.\"\"\"\n",
    "    \n",
    "\n",
    "    # Initialize array of replicates: bs_replicates\n",
    "    bs_replicates = np.empty(size)\n",
    "\n",
    "    # Generate replicates\n",
    "    for i in range(size):\n",
    "        bs_replicates[i] = bootstrap_replicate_1d(data, func)\n",
    "\n",
    "    return bs_replicates\n",
    "\n",
    "data['call_b'] = data[data.race=='b'].call\n",
    "data['call_w'] = data[data.race=='w'].call\n",
    "\n",
    "df_b = pd.DataFrame(data['call_b'])\n",
    "df_w = pd.DataFrame(data['call_w'])\n",
    "\n",
    "df_b = df_b.dropna()\n",
    "df_w = df_w.dropna()\n",
    "\n",
    "\n",
    "# Take 10,000 bootstrap replicates of 'call' for black names\n",
    "bs_replicates = draw_bs_reps(df_b['call_b'], np.sum, 10000)\n",
    "bs_replicates_b = bs_replicates\n",
    "\n",
    "# Take 10,000 bootstrap replicates of 'call' for white names\n",
    "bs_replicates = draw_bs_reps(df_w['call_w'], np.sum, 10000)\n",
    "bs_replicates_w = bs_replicates\n",
    "\n",
    "bs_mean_b = np.mean(bs_replicates_b)\n",
    "bs_mean_w = np.mean(bs_replicates_w)\n",
    "\n",
    "print('Mean black names: ', bs_mean_b)\n",
    "print('Mean white names: ', bs_mean_w, '\\n')\n",
    "\n",
    "# Compute and print SEM for black names\n",
    "sem_b = np.std(bs_replicates_b / np.sqrt(len(bs_replicates_b)))\n",
    "print('SEM black names: ', sem_b)\n",
    "\n",
    "# Compute and print SEM for white names\n",
    "sem_w = np.std(bs_replicates_w / np.sqrt(len(bs_replicates_w)))\n",
    "print('SEM white names: ', sem_w, '\\n')\n",
    "                  \n",
    "# Compute and print standard deviation of bootstrap replicates for black names\n",
    "bs_std_b = np.std(bs_replicates_b)\n",
    "print('Standard deviation black names: ', bs_std_b)\n",
    "\n",
    "# Compute and print standard deviation of bootstrap replicates for white names\n",
    "bs_std_w = np.std(bs_replicates_w)\n",
    "print('Standard deviation white names: ', bs_std_w)\n",
    "\n",
    "\n"
   ]
  },
  {
   "cell_type": "code",
   "execution_count": 75,
   "metadata": {},
   "outputs": [
    {
     "name": "stdout",
     "output_type": "stream",
     "text": [
      "Mean black names:  156.9547\n",
      "Mean white names:  235.064 \n",
      "\n",
      "95% confidence interval black names = [134. 181.]\n",
      "95% confidence interval white names = [206. 265.]\n"
     ]
    },
    {
     "data": {
      "image/png": "[encoded data removed]",
      "text/plain": [
       "<Figure size 432x288 with 1 Axes>"
      ]
     },
     "metadata": {},
     "output_type": "display_data"
    }
   ],
   "source": [
    "import matplotlib.pyplot as plt\n",
    "\n",
    "\n",
    "print('Mean black names: ', bs_mean_b)\n",
    "print('Mean white names: ', bs_mean_w, '\\n')\n",
    "\n",
    "# Compute the 95% confidence interval for black names\n",
    "conf_int_b = np.percentile(bs_replicates_b, [2.5, 97.5])\n",
    "\n",
    "# Print the confidence interval\n",
    "print('95% confidence interval black names =', conf_int_b)\n",
    "\n",
    "# Compute the 95% confidence interval for white names\n",
    "conf_int_w = np.percentile(bs_replicates_w, [2.5, 97.5])\n",
    "\n",
    "# Print the confidence interval\n",
    "print('95% confidence interval white names =', conf_int_w)\n",
    "\n",
    "# Plot the histogram of the replicates\n",
    "_ = plt.hist(bs_replicates_b, bins=50, density=True)\n",
    "#_ = plt.xlabel('Calls for black names')\n",
    "#_ = plt.ylabel('PDF')\n",
    "\n",
    "# Plot the histogram of the replicates\n",
    "_ = plt.hist(bs_replicates_w, bins=50, density=True)\n",
    "_ = plt.xlabel('Calls for black (in blue) and white (in orange) names')\n",
    "_ = plt.ylabel('PDF')\n",
    "\n",
    "# Show the plot\n",
    "plt.show()\n"
   ]
  },
  {
   "cell_type": "markdown",
   "metadata": {},
   "source": [
    "Both of the means fall inside the 95% confidence intervals for each population so we can reasonably say that we have captured the data. These two distributions are very different. This supports the findings from the frequentist calculations.\n",
    "\n",
    "Now I will perform permutations from these two distributions to simulate the hypothesis that two variables have identical probability distributions. I will use the bootstrap samples that I generated as normally distributed random variables."
   ]
  },
  {
   "cell_type": "code",
   "execution_count": 80,
   "metadata": {},
   "outputs": [
    {
     "name": "stdout",
     "output_type": "stream",
     "text": [
      "p-value = 0.0\n"
     ]
    }
   ],
   "source": [
    "def permutation_sample(data1, data2):\n",
    "    \"\"\"Generate a permutation sample from two data sets.\"\"\"\n",
    "\n",
    "    # Concatenate the data sets: data\n",
    "    data = np.concatenate((data1, data2))\n",
    "\n",
    "    # Permute the concatenated array: permuted_data\n",
    "    permuted_data = np.random.permutation(data)\n",
    "\n",
    "    # Split the permuted array into two: perm_sample_1, perm_sample_2\n",
    "    perm_sample_1 = permuted_data[:len(data1)]\n",
    "    perm_sample_2 = permuted_data[len(data1):]\n",
    "\n",
    "    return perm_sample_1, perm_sample_2\n",
    "\n",
    "def draw_perm_reps(data_1, data_2, func, size=1):\n",
    "    \"\"\"Generate multiple permutation replicates.\"\"\"\n",
    "\n",
    "    # Initialize array of replicates: perm_replicates\n",
    "    perm_replicates = np.empty(size)\n",
    "\n",
    "    for i in range(size):\n",
    "        # Generate permutation sample\n",
    "        perm_sample_1, perm_sample_2 = permutation_sample(data_1, data_2)\n",
    "\n",
    "        # Compute the test statistic\n",
    "        perm_replicates[i] = func(perm_sample_1, perm_sample_2)\n",
    "\n",
    "    return perm_replicates\n",
    "\n",
    "def diff_of_means(data_1, data_2):\n",
    "    \"\"\"Difference in means of two arrays.\"\"\"\n",
    "\n",
    "    # The difference of means of data_1, data_2: diff\n",
    "    diff = (data_1).mean() - np.mean(data_2)\n",
    "\n",
    "    return diff\n",
    "\n",
    "# Compute difference of mean for black names and white names\n",
    "empirical_diff_means = diff_of_means(bs_replicates_b, df_w['call_w'])\n",
    "\n",
    "\n",
    "\n",
    "# Draw 10,000 permutation replicates: perm_replicates\n",
    "perm_replicates = draw_perm_reps(bs_replicates_b, bs_replicates_w,\n",
    "                                 diff_of_means, size=10000)\n",
    "\n",
    "# Compute p-value: p\n",
    "p = np.sum(perm_replicates >= empirical_diff_means) / len(perm_replicates)\n",
    "\n",
    "# Print the result\n",
    "print('p-value =', p)\n",
    "\n"
   ]
  },
  {
   "cell_type": "markdown",
   "metadata": {},
   "source": [
    "As expected, the p-value is extremely low. These two distributions are very different and we can conclude that there is a strong significant difference between calls made to white names and calls made to black names."
   ]
  },
  {
   "cell_type": "markdown",
   "metadata": {},
   "source": [
    "<div class=\"span5 alert alert-success\">\n",
    "<p> Your answers to Q4 and Q5 here </p>\n",
    "</div>\n",
    "\n",
    "4.  Write a story describing the statistical significance in the context of the original problem.\n",
    "\n",
    "5.  Does your analysis mean that race/name is the most important factor in callback success? Why or why not? If not, how would you amend your analysis?\n",
    "\n",
    "\n",
    "For the original data, the only statistic that we could work with was the sum of the calls, which were entered as 1's for a successful call back. I was able to determine the frequency for each sample and used frequentist statistics to show that there was a significant difference in the number of call backs between the two groups. There were significantly fewer call backs for black sounding names than for white sounding names. \n",
    "\n",
    "I created bootstrap samples from these samples to develop normal distributions for each of these samples. I computed confidence intervals and the means for both groups were well within the respective intervals. I ran a permutation test with the two groups and calculated a p-value that confirmed that the two groups are significantly different. Resumes with white sounding names were called more than resumes with black sounding names.\n",
    "\n",
    "No, it doesn't weight the factor(s) for callback success. You can't say that race/name is the most important without also testing other possible predictors. For that, you could assemble the other candidates and run logistic regression to predict call-backs. Then compare to see which model predicts the best. You could also run a similar test for gender. Is there a difference for male vs female names, for example.\n",
    "\n",
    "\n"
   ]
  },
  {
   "cell_type": "code",
   "execution_count": null,
   "metadata": {},
   "outputs": [],
   "source": []
  },
  {
   "cell_type": "code",
   "execution_count": null,
   "metadata": {},
   "outputs": [],
   "source": []
  },
  {
   "cell_type": "code",
   "execution_count": null,
   "metadata": {},
   "outputs": [],
   "source": []
  }
 ],
 "metadata": {
  "kernelspec": {
   "display_name": "Python 3",
   "language": "python",
   "name": "python3"
  },
  "language_info": {
   "codemirror_mode": {
    "name": "ipython",
    "version": 3
   },
   "file_extension": ".py",
   "mimetype": "text/x-python",
   "name": "python",
   "nbconvert_exporter": "python",
   "pygments_lexer": "ipython3",
   "version": "3.6.4"
  }
 },
 "nbformat": 4,
 "nbformat_minor": 1
}
