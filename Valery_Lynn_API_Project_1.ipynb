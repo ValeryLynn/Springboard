{
 "cells": [
  {
   "cell_type": "markdown",
   "metadata": {},
   "source": [
    "This exercise will require you to pull some data from the Qunadl API. Qaundl is currently the most widely used aggregator of financial market data."
   ]
  },
  {
   "cell_type": "markdown",
   "metadata": {},
   "source": [
    "As a first step, you will need to register a free account on the http://www.quandl.com website."
   ]
  },
  {
   "cell_type": "markdown",
   "metadata": {},
   "source": [
    "After you register, you will be provided with a unique API key, that you should store:"
   ]
  },
  {
   "cell_type": "code",
   "execution_count": 136,
   "metadata": {},
   "outputs": [],
   "source": [
    "# Store the API key as a string - according to PEP8, constants are always named in all upper case\n",
    "API_KEY = 'nK_oDNyRo17zSF7LsAUb'"
   ]
  },
  {
   "cell_type": "markdown",
   "metadata": {},
   "source": [
    "Qaundl has a large number of data sources, but, unfortunately, most of them require a Premium subscription. Still, there are also a good number of free datasets."
   ]
  },
  {
   "cell_type": "markdown",
   "metadata": {},
   "source": [
    "For this mini project, we will focus on equities data from the Frankfurt Stock Exhange (FSE), which is available for free. We'll try and analyze the stock prices of a company called Carl Zeiss Meditec, which manufactures tools for eye examinations, as well as medical lasers for laser eye surgery: https://www.zeiss.com/meditec/int/home.html. The company is listed under the stock ticker AFX_X."
   ]
  },
  {
   "cell_type": "markdown",
   "metadata": {},
   "source": [
    "You can find the detailed Quandl API instructions here: https://docs.quandl.com/docs/time-series"
   ]
  },
  {
   "cell_type": "markdown",
   "metadata": {},
   "source": [
    "While there is a dedicated Python package for connecting to the Quandl API, we would prefer that you use the *requests* package, which can be easily downloaded using *pip* or *conda*. You can find the documentation for the package here: http://docs.python-requests.org/en/master/ "
   ]
  },
  {
   "cell_type": "markdown",
   "metadata": {},
   "source": [
    "Finally, apart from the *requests* package, you are encouraged to not use any third party Python packages, such as *pandas*, and instead focus on what's available in the Python Standard Library (the *collections* module might come in handy: https://pymotw.com/3/collections/).\n",
    "Also, since you won't have access to DataFrames, you are encouraged to us Python's native data structures - preferably dictionaries, though some questions can also be answered using lists.\n",
    "You can read more on these data structures here: https://docs.python.org/3/tutorial/datastructures.html"
   ]
  },
  {
   "cell_type": "markdown",
   "metadata": {},
   "source": [
    "Keep in mind that the JSON responses you will be getting from the API map almost one-to-one to Python's dictionaries. Unfortunately, they can be very nested, so make sure you read up on indexing dictionaries in the documentation provided above."
   ]
  },
  {
   "cell_type": "code",
   "execution_count": 137,
   "metadata": {},
   "outputs": [],
   "source": [
    "# First, import the relevant modules\n",
    "import requests\n",
    "\n"
   ]
  },
  {
   "cell_type": "code",
   "execution_count": 138,
   "metadata": {},
   "outputs": [
    {
     "name": "stdout",
     "output_type": "stream",
     "text": [
      "{'dataset_data': {'limit': None, 'transform': None, 'column_index': None, 'column_names': ['Date', 'Open', 'High', 'Low', 'Close', 'Change', 'Traded Volume', 'Turnover', 'Last Price of the Day', 'Daily Traded Units', 'Daily Turnover'], 'start_date': '2017-01-02', 'end_date': '2017-01-02', 'frequency': 'daily', 'data': [['2017-01-02', 34.99, 35.94, 34.99, 35.8, None, 44700.0, 1590561.0, None, None, None]], 'collapse': None, 'order': None}}\n"
     ]
    }
   ],
   "source": [
    "# Now, call the Quandl API and pull out a small sample of the data (only one day) to get a glimpse\n",
    "# into the JSON structure that will be returned\n",
    "\n",
    "r = requests.get('https://www.quandl.com/api/v3/datasets/FSE/AFX_X/data.json?&start_date=2017-01-02&end_date=2017-01-02&api_key=nK_oDNyRo17zSF7LsAUb')\n",
    "\n",
    "print(r.json())\n"
   ]
  },
  {
   "cell_type": "code",
   "execution_count": null,
   "metadata": {},
   "outputs": [],
   "source": []
  },
  {
   "cell_type": "code",
   "execution_count": 139,
   "metadata": {},
   "outputs": [
    {
     "name": "stdout",
     "output_type": "stream",
     "text": [
      "dict_keys(['dataset_data'])\n",
      "dict_keys(['limit', 'transform', 'column_index', 'column_names', 'start_date', 'end_date', 'frequency', 'data', 'collapse', 'order'])\n",
      "<class 'list'>\n",
      "['Date', 'Open', 'High', 'Low', 'Close', 'Change', 'Traded Volume', 'Turnover', 'Last Price of the Day', 'Daily Traded Units', 'Daily Turnover']\n",
      "['2017-01-02', 34.99, 35.94, 34.99, 35.8, None, 44700.0, 1590561.0, None, None, None]\n"
     ]
    },
    {
     "data": {
      "text/plain": [
       "1"
      ]
     },
     "execution_count": 139,
     "metadata": {},
     "output_type": "execute_result"
    }
   ],
   "source": [
    "# Inspect the JSON structure of the object you created, and take note of how nested it is,\n",
    "# as well as the overall structure\n",
    "\n",
    "#Create a dictionary from the request and get its keys\n",
    "dict = r.json()\n",
    "print(dict.keys())\n",
    "\n",
    "#Get keys from nested dict\n",
    "print(dict['dataset_data'].keys())\n",
    "\n",
    "#Get type from 'data' key\n",
    "print(type(dict['dataset_data']['data']))\n",
    "\n",
    "#Print out 'column_names and first index from 'data'\n",
    "print(dict['dataset_data']['column_names']) \n",
    "print(dict['dataset_data']['data'][0])\n",
    "\n",
    "len(dict['dataset_data']['data'])"
   ]
  },
  {
   "cell_type": "markdown",
   "metadata": {},
   "source": [
    "These are your tasks for this mini project:\n",
    "\n",
    "1. Collect data from the Franfurt Stock Exchange, for the ticker AFX_X, for the whole year 2017 (keep in mind that the date format is YYYY-MM-DD).\n",
    "2. Convert the returned JSON object into a Python dictionary.\n",
    "3. Calculate what the highest and lowest opening prices were for the stock in this period.\n",
    "4. What was the largest change in any one day (based on High and Low price)?\n",
    "5. What was the largest change between any two days (based on Closing Price)?\n",
    "6. What was the average daily trading volume during this year?\n",
    "7. (Optional) What was the median trading volume during this year. (Note: you may need to implement your own function for calculating the median.)"
   ]
  },
  {
   "cell_type": "markdown",
   "metadata": {
    "collapsed": true
   },
   "source": [
    "## Question 1:\n",
    "\n",
    "Collect data from the Franfurt Stock Exchange, for the ticker AFX_X, for the whole year 2017 (keep in mind that the date format is YYYY-MM-DD).\n"
   ]
  },
  {
   "cell_type": "code",
   "execution_count": 140,
   "metadata": {},
   "outputs": [],
   "source": [
    "r2 = requests.get('https://www.quandl.com/api/v3/datasets/FSE/AFX_X/data.json?&start_date=2017-01-01&end_date=2017-12-31&api_key=nK_oDNyRo17zSF7LsAUb')\n",
    "\n"
   ]
  },
  {
   "cell_type": "markdown",
   "metadata": {},
   "source": [
    "## Question 2:\n",
    "\n",
    "Convert the returned JSON object into a Python dictionary."
   ]
  },
  {
   "cell_type": "code",
   "execution_count": 147,
   "metadata": {},
   "outputs": [
    {
     "name": "stdout",
     "output_type": "stream",
     "text": [
      "dict_keys(['dataset_data'])\n",
      "dict_keys(['limit', 'transform', 'column_index', 'column_names', 'start_date', 'end_date', 'frequency', 'data', 'collapse', 'order'])\n",
      "<class 'list'>\n",
      "['Date', 'Open', 'High', 'Low', 'Close', 'Change', 'Traded Volume', 'Turnover', 'Last Price of the Day', 'Daily Traded Units', 'Daily Turnover']\n",
      "['2017-12-29', 51.76, 51.94, 51.45, 51.76, None, 34640.0, 1792304.0, None, None, None]\n"
     ]
    },
    {
     "data": {
      "text/plain": [
       "255"
      ]
     },
     "execution_count": 147,
     "metadata": {},
     "output_type": "execute_result"
    }
   ],
   "source": [
    "#Create a dictionary from the request and check its keys\n",
    "dict_2017 = r2.json()\n",
    "print(dict_2017.keys())\n",
    "\n",
    "#Get keys from nested dict\n",
    "print(dict_2017['dataset_data'].keys())\n",
    "\n",
    "#Get type from 'data' key\n",
    "print(type(dict_2017['dataset_data']['data']))\n",
    "\n",
    "#Print out 'column_names and first index from 'data'\n",
    "print(dict_2017['dataset_data']['column_names']) \n",
    "print(dict_2017['dataset_data']['data'][0])\n",
    "\n",
    "len(dict_2017['dataset_data']['data'])"
   ]
  },
  {
   "cell_type": "markdown",
   "metadata": {},
   "source": [
    "## Question 3:\n",
    "\n",
    "Calculate what the highest and lowest opening prices were for the stock in this period.\n"
   ]
  },
  {
   "cell_type": "code",
   "execution_count": 310,
   "metadata": {},
   "outputs": [
    {
     "name": "stdout",
     "output_type": "stream",
     "text": [
      "252\n",
      "The highest opening price is:  53.11\n",
      "The lowest opening price is:  34.0\n"
     ]
    }
   ],
   "source": [
    "#Create variables for column names and data\n",
    "column_names = dict_2017['dataset_data']['column_names']\n",
    "data = dict_2017['dataset_data']['data']\n",
    "\n",
    "#Create a new list\n",
    "price = []\n",
    "\n",
    "#Iterate over the data and create a list from the daily 'Open' if it has a value\n",
    "price_ind = column_names.index('Open')\n",
    "       \n",
    "price = [lst[price_ind] for lst in data  if lst[price_ind] != None]        \n",
    "               \n",
    "#Check the length of the list, sort and print first and last value\n",
    "print(len(price))\n",
    "price =  sorted(price)\n",
    "   \n",
    "print('The highest opening price is: ', price[-1])\n",
    "print('The lowest opening price is: ', price[0])\n",
    "\n"
   ]
  },
  {
   "cell_type": "markdown",
   "metadata": {},
   "source": [
    "## Question 4:\n",
    "\n",
    "What was the largest change in any one day (based on High and Low price)?\n"
   ]
  },
  {
   "cell_type": "code",
   "execution_count": 218,
   "metadata": {},
   "outputs": [
    {
     "name": "stdout",
     "output_type": "stream",
     "text": [
      "255\n",
      "The largest change in any one day is:  2.81\n"
     ]
    }
   ],
   "source": [
    "#Set indexs\n",
    "high_ind = column_names.index('High')\n",
    "low_ind = column_names.index('Low')\n",
    "\n",
    "#Create a list of the differences in prices if both have a value for that day\n",
    "diff = [(lst[high_ind] - lst[low_ind]) for lst in data if ((lst[high_ind] != None) & (lst[low_ind] != None))]\n",
    "\n",
    "#Check the length of the list, sort and print highest (end) value\n",
    "print(len(diff))\n",
    "diff = sorted(diff)\n",
    "\n",
    "print('The largest change in any one day is: ', round(diff[-1],2))\n"
   ]
  },
  {
   "cell_type": "markdown",
   "metadata": {},
   "source": [
    "## Question 5:\n",
    "\n",
    "What was the largest change between any two days (based on Closing Price)?\n"
   ]
  },
  {
   "cell_type": "code",
   "execution_count": 311,
   "metadata": {},
   "outputs": [
    {
     "name": "stdout",
     "output_type": "stream",
     "text": [
      "254\n",
      "The largest change between any two days is:  2.56\n"
     ]
    }
   ],
   "source": [
    "#Set index\n",
    "close_index = column_names.index('Close')\n",
    "\n",
    "#Create a list and iterate over the length of 'data'\n",
    "#Use index slicing to append the absolute value of the difference between any two days.\n",
    "days = []\n",
    "\n",
    "#Set indexes for each day (i) and the next day (j = i + 1). \n",
    "#Indexing starts at zero, so the last day = len(data)-1\n",
    "#Stop (else) when i = the next to the last day and j = the last day\n",
    "for i in range(len(data)-1):\n",
    "    if i < (len(data)-1):\n",
    "        j = i + 1\n",
    "    else:\n",
    "        i = len(data)-2\n",
    "        j = len(data)-1\n",
    "    \n",
    "    if  (data[i][close_index] != None) & (data[j][close_index] != None):\n",
    "        days.append(abs(data[i][close_index] - data[j][close_index]))                  \n",
    "\n",
    "#Check the length of the list, sort and print the highest (end) value\n",
    "print(len(days))\n",
    "days = sorted(days)\n",
    "\n",
    "print('The largest change between any two days is: ', round(days[-1],2))"
   ]
  },
  {
   "cell_type": "markdown",
   "metadata": {},
   "source": [
    "## Question 6:\n",
    "\n",
    "What was the average daily trading volume during this year?\n"
   ]
  },
  {
   "cell_type": "code",
   "execution_count": 315,
   "metadata": {},
   "outputs": [
    {
     "name": "stdout",
     "output_type": "stream",
     "text": [
      "255\n",
      "The average daily trading volume is:  89124.34\n"
     ]
    }
   ],
   "source": [
    "#Set index\n",
    "tvol_index = column_names.index('Traded Volume')\n",
    "\n",
    "#Create a list of daily trading volume values, calculate average\n",
    "tvol = [lst[tvol_index] for lst in data if lst[tvol_index] != None]\n",
    "tvol_ave = sum(tvol)/len(tvol)\n",
    "\n",
    "#Check the length of the list, sort and print average value\n",
    "print(len(tvol))\n",
    "print('The average daily trading volume is: ',round(tvol_ave, 2))\n"
   ]
  },
  {
   "cell_type": "markdown",
   "metadata": {},
   "source": [
    "## Question 7:\n",
    "\n",
    "(Optional) What was the median trading volume during this year. (Note: you may need to implement your own function for calculating the median.)"
   ]
  },
  {
   "cell_type": "code",
   "execution_count": 317,
   "metadata": {},
   "outputs": [
    {
     "name": "stdout",
     "output_type": "stream",
     "text": [
      "255\n",
      "The median trading volume is:  76286.0\n"
     ]
    }
   ],
   "source": [
    "#Import Python statistics module\n",
    "import statistics\n",
    "\n",
    "#Set index\n",
    "tvol_index = column_names.index('Traded Volume')\n",
    "\n",
    "#Create a list of daily trading volume values\n",
    "tvol = [lst[tvol_index] for lst in data if lst[tvol_index] != None]\n",
    "tvol_med = statistics.median(tvol)\n",
    "\n",
    "#Check the length of the list and print median value\n",
    "print(len(tvol))\n",
    "print('The median trading volume is: ', tvol_med)"
   ]
  },
  {
   "cell_type": "code",
   "execution_count": null,
   "metadata": {},
   "outputs": [],
   "source": []
  }
 ],
 "metadata": {
  "kernelspec": {
   "display_name": "Python 3",
   "language": "python",
   "name": "python3"
  },
  "language_info": {
   "codemirror_mode": {
    "name": "ipython",
    "version": 3
   },
   "file_extension": ".py",
   "mimetype": "text/x-python",
   "name": "python",
   "nbconvert_exporter": "python",
   "pygments_lexer": "ipython3",
   "version": "3.6.4"
  }
 },
 "nbformat": 4,
 "nbformat_minor": 2
}
